{
 "cells": [
  {
   "cell_type": "markdown",
   "id": "amateur-split",
   "metadata": {},
   "source": [
    "# Classification\n",
    "- [Binary Classifier](#SGDClassifier) (*Incomplete/Error*)\n",
    "- [SVC](#svc)\n",
    "- [Confusion Matrix](#confusion_matrix)"
   ]
  },
  {
   "cell_type": "code",
   "execution_count": 1,
   "id": "photographic-irish",
   "metadata": {},
   "outputs": [],
   "source": [
    "import pandas as pd\n",
    "import numpy as np\n",
    "import matplotlib.pyplot as plt"
   ]
  },
  {
   "cell_type": "markdown",
   "id": "modern-factory",
   "metadata": {},
   "source": [
    "`Regression`: predicting values <br>\n",
    "`Classification`: predicting classes"
   ]
  },
  {
   "cell_type": "code",
   "execution_count": 2,
   "id": "choice-porter",
   "metadata": {},
   "outputs": [
    {
     "data": {
      "text/plain": [
       "dict_keys(['data', 'target', 'frame', 'categories', 'feature_names', 'target_names', 'DESCR', 'details', 'url'])"
      ]
     },
     "execution_count": 2,
     "metadata": {},
     "output_type": "execute_result"
    }
   ],
   "source": [
    "from sklearn.datasets import fetch_openml\n",
    "mnist = fetch_openml('mnist_784', version=1)\n",
    "mnist.keys()"
   ]
  },
  {
   "cell_type": "code",
   "execution_count": 3,
   "id": "threatened-rocket",
   "metadata": {},
   "outputs": [
    {
     "name": "stdout",
     "output_type": "stream",
     "text": [
      "Shape of DF: (70000, 784)\n",
      "Number of Images: 70000\n",
      "Features in each image: 784\n",
      "Which means image's resolution: 28 X 28 pixels\n"
     ]
    }
   ],
   "source": [
    "X, y = mnist[\"data\"], mnist[\"target\"]\n",
    "\n",
    "print(f\"Shape of DF: {X.shape}\")\n",
    "print(f\"Number of Images: {X.shape[0]}\")\n",
    "print(f\"Features in each image: {X.shape[1]}\")\n",
    "print(f\"Which means image's resolution: {int(np.sqrt(X.shape[1]))} X {int(np.sqrt(X.shape[1]))} pixels\")"
   ]
  },
  {
   "cell_type": "markdown",
   "id": "governmental-kennedy",
   "metadata": {},
   "source": [
    "### Another way of importing MNIST data\n",
    "```python\n",
    "from tensorflow.keras.datasets import mnist\n",
    "from matplotlib import pyplot\n",
    "# load dataset\n",
    "(trainX, trainy), (testX, testy) = mnist.load_data()\n",
    "```"
   ]
  },
  {
   "cell_type": "markdown",
   "id": "widespread-metro",
   "metadata": {},
   "source": [
    "<a id=\"SGDClassifier\"></a>\n",
    "## Training a binary classifier\n",
    "<font color=\"teal\"><b>Stochastic Gradient Classifier</b></font>\n",
    "```python\n",
    "from sklearn.linear_model import SGDClassifier\n",
    "```"
   ]
  },
  {
   "cell_type": "code",
   "execution_count": 4,
   "id": "lyric-french",
   "metadata": {},
   "outputs": [],
   "source": [
    "X, y = mnist[\"data\"], mnist[\"target\"]\n",
    "y = y.astype(np.uint8) # As the numeral representation in target is in string format\n",
    "\n",
    "X_train, X_test, y_train, y_test = X[:60000], X[60000:], y[:60000], y[60000:]"
   ]
  },
  {
   "cell_type": "code",
   "execution_count": 5,
   "id": "adequate-player",
   "metadata": {},
   "outputs": [
    {
     "data": {
      "text/plain": [
       "False    54579\n",
       "True      5421\n",
       "Name: class, dtype: int64"
      ]
     },
     "execution_count": 5,
     "metadata": {},
     "output_type": "execute_result"
    }
   ],
   "source": [
    "y_train_5 = (y_train == 5)\n",
    "y_test_5 = (y_test == 5)\n",
    "\n",
    "y_train_5.value_counts()"
   ]
  },
  {
   "cell_type": "code",
   "execution_count": 6,
   "id": "finnish-agency",
   "metadata": {},
   "outputs": [
    {
     "name": "stdout",
     "output_type": "stream",
     "text": [
      "(60000, 784)\n",
      "(60000,)\n"
     ]
    }
   ],
   "source": [
    "print(X_train.shape)\n",
    "print(y_train_5.shape)"
   ]
  },
  {
   "cell_type": "code",
   "execution_count": 8,
   "id": "beautiful-muscle",
   "metadata": {},
   "outputs": [
    {
     "data": {
      "text/plain": [
       "SGDClassifier(random_state=42)"
      ]
     },
     "execution_count": 8,
     "metadata": {},
     "output_type": "execute_result"
    }
   ],
   "source": [
    "from sklearn.linear_model import SGDClassifier\n",
    "\n",
    "sgd_clf = SGDClassifier(max_iter=1000, tol=1e-3, random_state=42)\n",
    "sgd_clf.fit(X_train, y_train_5)"
   ]
  },
  {
   "cell_type": "markdown",
   "id": "tired-consumption",
   "metadata": {},
   "source": [
    "```python\n",
    "sgd_clf.predict([X_train[0]])\n",
    "```"
   ]
  },
  {
   "cell_type": "markdown",
   "id": "driving-parish",
   "metadata": {},
   "source": [
    "### Another way of importing MNIST data\n",
    "```python\n",
    "from sklearn import datasets\n",
    "# load dataset\n",
    "digits = datasets.load_digits()\n",
    "\n",
    "# flatten the images\n",
    "n_samples = len(digits.images)\n",
    "data = digits.images.reshape((n_samples, -1))\n",
    "\n",
    "X_train, X_test, y_train, y_test = train_test_split(data, digits.target, test_size=0.2, shuffle=False)\n",
    "```"
   ]
  },
  {
   "cell_type": "code",
   "execution_count": 9,
   "id": "revised-tiffany",
   "metadata": {},
   "outputs": [],
   "source": [
    "# Standard scientific Python imports\n",
    "import matplotlib.pyplot as plt\n",
    "\n",
    "# Import datasets, classifiers and performance metrics\n",
    "from sklearn import datasets, svm, metrics\n",
    "from sklearn.model_selection import train_test_split\n",
    "digits = datasets.load_digits()"
   ]
  },
  {
   "cell_type": "code",
   "execution_count": 10,
   "id": "cognitive-burns",
   "metadata": {},
   "outputs": [
    {
     "data": {
      "image/png": "[encoded data removed]",
      "text/plain": [
       "<Figure size 720x216 with 4 Axes>"
      ]
     },
     "metadata": {
      "needs_background": "light"
     },
     "output_type": "display_data"
    }
   ],
   "source": [
    "# Plotting some digits on screen\n",
    "\n",
    "_, axes = plt.subplots(nrows=1, ncols=4, figsize=(10, 3))\n",
    "for ax, image, label in zip(axes, digits.images, digits.target):\n",
    "    ax.set_axis_off()\n",
    "    ax.imshow(image, cmap=plt.cm.gray_r, interpolation='nearest')\n",
    "    ax.set_title(f'Training: {label}')\n",
    "    \n",
    "# flatten the images\n",
    "n_samples = len(digits.images)\n",
    "data = digits.images.reshape((n_samples, -1))"
   ]
  },
  {
   "cell_type": "markdown",
   "id": "present-coupon",
   "metadata": {},
   "source": [
    "<a id=\"svc\"></a>\n",
    "## Support Vector Classifier\n",
    "\n",
    "<font color=\"teal\"><b>Support Vector Classifier</b></font>\n",
    "```python\n",
    "from sklearn import svm\n",
    "```"
   ]
  },
  {
   "cell_type": "code",
   "execution_count": 11,
   "id": "changing-converter",
   "metadata": {},
   "outputs": [
    {
     "name": "stdout",
     "output_type": "stream",
     "text": [
      "(1437,)\n",
      "(1437,)\n"
     ]
    }
   ],
   "source": [
    "# Create a classifier: a Support Vector Classifier\n",
    "clf = svm.SVC(gamma=0.001)\n",
    "\n",
    "# Split data into 50% train and 50% test subsets\n",
    "X_train, X_test, y_train, y_test = train_test_split(data, digits.target, test_size=0.2, shuffle=False)\n",
    "\n",
    "y_train_5 = (y_train==5); y_test_5 = (y_test==5)\n",
    "\n",
    "print(y_train.shape); print(y_train_5.shape)"
   ]
  },
  {
   "cell_type": "code",
   "execution_count": 12,
   "id": "tender-realtor",
   "metadata": {},
   "outputs": [],
   "source": [
    "# Learn the digits on the train subset\n",
    "clf.fit(X_train, y_train_5)\n",
    "\n",
    "# Predict the value of the digit on the test subset\n",
    "predicted = clf.predict(X_test)"
   ]
  },
  {
   "cell_type": "code",
   "execution_count": 14,
   "id": "operating-copying",
   "metadata": {},
   "outputs": [
    {
     "data": {
      "image/png": "[encoded data removed]",
      "text/plain": [
       "<Figure size 720x216 with 4 Axes>"
      ]
     },
     "metadata": {
      "needs_background": "light"
     },
     "output_type": "display_data"
    }
   ],
   "source": [
    "# Plotting predictions\n",
    "_, axes = plt.subplots(nrows=1, ncols=4, figsize=(10, 3))\n",
    "for ax, image, prediction in zip(axes, X_test, predicted):\n",
    "    ax.set_axis_off()\n",
    "    image = image.reshape(8, 8)\n",
    "    ax.imshow(image, cmap=plt.cm.gray_r, interpolation='nearest')\n",
    "    ax.set_title(f'Prediction: {prediction}')"
   ]
  },
  {
   "cell_type": "markdown",
   "id": "verbal-gather",
   "metadata": {},
   "source": [
    "[classification_report](https://scikit-learn.org/stable/modules/generated/sklearn.metrics.classification_report.html#sklearn.metrics.classification_report) builds a text report showing the main classification metrics"
   ]
  },
  {
   "cell_type": "code",
   "execution_count": 15,
   "id": "potential-railway",
   "metadata": {},
   "outputs": [
    {
     "name": "stdout",
     "output_type": "stream",
     "text": [
      "Classification report for classifier: SVC(gamma=0.001):\n",
      "\n",
      "              precision    recall  f1-score   support\n",
      "\n",
      "       False       1.00      0.99      1.00       323\n",
      "        True       0.95      1.00      0.97        37\n",
      "\n",
      "    accuracy                           0.99       360\n",
      "   macro avg       0.97      1.00      0.99       360\n",
      "weighted avg       0.99      0.99      0.99       360\n",
      "\n",
      "\n"
     ]
    }
   ],
   "source": [
    "print(f\"Classification report for classifier: {clf}:\\n\\n\"\n",
    "      f\"{metrics.classification_report(y_test_5, predicted)}\\n\")"
   ]
  },
  {
   "cell_type": "markdown",
   "id": "indie-capacity",
   "metadata": {},
   "source": [
    "<a id=\"confusion_matrix\"></a>\n",
    "### plot_confusion_matrix"
   ]
  },
  {
   "cell_type": "code",
   "execution_count": 16,
   "id": "proof-commodity",
   "metadata": {},
   "outputs": [
    {
     "name": "stdout",
     "output_type": "stream",
     "text": [
      "Confusion matrix:\n",
      "[[321   2]\n",
      " [  0  37]]\n"
     ]
    },
    {
     "data": {
      "image/png": "[encoded data removed]",
      "text/plain": [
       "<Figure size 432x288 with 2 Axes>"
      ]
     },
     "metadata": {
      "needs_background": "light"
     },
     "output_type": "display_data"
    }
   ],
   "source": [
    "disp = metrics.plot_confusion_matrix(clf, X_test, y_test_5)\n",
    "disp.figure_.suptitle(\"Confusion Matrix\")\n",
    "print(f\"Confusion matrix:\\n{disp.confusion_matrix}\")\n",
    "\n",
    "plt.show()"
   ]
  }
 ],
 "metadata": {
  "kernelspec": {
   "display_name": "Python 3",
   "language": "python",
   "name": "python3"
  },
  "language_info": {
   "codemirror_mode": {
    "name": "ipython",
    "version": 3
   },
   "file_extension": ".py",
   "mimetype": "text/x-python",
   "name": "python",
   "nbconvert_exporter": "python",
   "pygments_lexer": "ipython3",
   "version": "3.8.5"
  }
 },
 "nbformat": 4,
 "nbformat_minor": 5
}
