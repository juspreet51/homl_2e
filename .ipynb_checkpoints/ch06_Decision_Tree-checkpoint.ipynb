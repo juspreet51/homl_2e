{
 "cells": [
  {
   "cell_type": "markdown",
   "id": "significant-marble",
   "metadata": {},
   "source": [
    "# Decision Trees\n",
    "\n",
    "`SVM` is a strong versatile ML Algorithm which is capable of performing `Regression`, `Classification` & `Outlier Detection` <br>\n",
    "- <b><font color=\"green\">Large margin classification</font></b>: fitting a `largest possible street` between 2 classifiers\n",
    "- <b><font color=\"green\">Hard margin classification</font></b>: \n",
    "- <b><font color=\"green\">Soft margin classification</font></b>: fitting a largest possible street between 2 classifiers as well as `minimizing the margin violations`\n",
    "\n",
    "- <b><font color=\"green\">Support Vectors</font></b>: The vectors/instances that supports/determines the decision boundaries\n",
    "\n",
    "## Table of Contents\n",
    "1. [Linear](#linear) SVM Classification\n",
    "    - Linear Classifier [V/S](#linear_classifiers_vs_svm) SVM\n",
    "    - Sensivity to [Feature Scale](#sens_fs)\n",
    "    - Sensitivity to [Outliers](#sens_out)\n",
    "    - [Scikit-Learn's](#sklearn_svm) SVM example\n",
    "    - Comparing [different regularization settings](#reg_comparison)\n",
    "\n",
    "2. [Non-Linear](#non_linear) SVM Classification\n",
    "    - Handling via [PolyNomial Features](#poly_features)\n",
    "    - [Polynomial Kernel](#poly_kernel)\n",
    "    - [Gaussian RBF Kernel](#gaussian_rbf)\n",
    "    - [Computational Complexity](#comp_complexity)\n",
    "\n",
    "3. SVM [Regression](#reg)\n",
    "    - [Scikit-Learn's SVR](#svr)\n",
    "\n",
    "4. [Under the Hood](#under_the_hood)"
   ]
  },
  {
   "cell_type": "code",
   "execution_count": null,
   "id": "collected-botswana",
   "metadata": {},
   "outputs": [],
   "source": []
  }
 ],
 "metadata": {
  "kernelspec": {
   "display_name": "Python 3",
   "language": "python",
   "name": "python3"
  },
  "language_info": {
   "codemirror_mode": {
    "name": "ipython",
    "version": 3
   },
   "file_extension": ".py",
   "mimetype": "text/x-python",
   "name": "python",
   "nbconvert_exporter": "python",
   "pygments_lexer": "ipython3",
   "version": "3.8.5"
  }
 },
 "nbformat": 4,
 "nbformat_minor": 5
}
