{
 "cells": [
  {
   "cell_type": "markdown",
   "id": "standing-therapy",
   "metadata": {},
   "source": [
    "# Training Model:\n",
    "> Training a model means setting the model's parameter value so that, it best fits the training dataset\n",
    "\n",
    "# Linear Regression\n",
    "Linear Model makes predicitions by computing a weighted sum of i/p features, plus a constant called the `bias` term (or `intercept`)\n",
    "\n",
    "<font color=\"yellow\">$\\Large \\hat{y} = \\theta_{0} + \\theta_{1}x_{1} + \\theta_{2}x_{2} + \\theta_{3}x_{3} + ... + \\theta_{n}x_{n}$</font>\n",
    "- <font color=\"yellow\">$\\Large \\hat{y} $</font> = the predicted value\n",
    "- <font color=\"yellow\">$\\Large n $</font> = number of features\n",
    "- <font color=\"yellow\">$\\Large x_{i} $</font> = <font color=\"yellow\">$i^{th}$</font> feature's value\n",
    "- <font color=\"yellow\">$\\Large \\theta_{j} $</font> = <font color=\"yellow\">$\\theta_{0} $</font> is the `bais term` and $\\theta_{1},\\theta_{3},\\theta_{3}... $ are `feature weights`\n",
    "\n",
    "## <font color=\"red\">Linear Regression:</font>\n",
    "- <font color=\"yellow\">$\\Large \\hat{y}$</font> = $h_{\\theta}(x) = \\theta.x$\n",
    "- <font color=\"yellow\">$\\Large \\theta $</font> = Model's `parameters` vector\n",
    "- <font color=\"yellow\">$\\Large x $</font> = Model's `features` vector\n",
    "- <font color=\"yellow\">$\\Large h_{\\theta} $</font> = Hypothesis function on model's parameter $\\theta$"
   ]
  },
  {
   "cell_type": "markdown",
   "id": "casual-prague",
   "metadata": {},
   "source": [
    "## <font color=\"red\">Normal Equation:</font>\n",
    "It helps the model to find the value of $\\theta$ that minimizes the cost function <br>\n",
    "- <font color=\"yellow\">$\\large \\hat\\theta$</font> = $(X^{T}X)^{-1} X^{T}y$\n",
    "\n",
    "- <font color=\"yellow\">$\\large \\hat\\theta$</font> = the value of $\\theta$ that minimizes the cost function\n",
    "- <font color=\"yellow\">$\\large y$</font> = $y$ is a vector composed of target values containg $y^{1}$ to $y^{m}$"
   ]
  },
  {
   "cell_type": "code",
   "execution_count": 2,
   "id": "muslim-congo",
   "metadata": {},
   "outputs": [],
   "source": [
    "# Python ≥3.5 is required\n",
    "import sys\n",
    "assert sys.version_info >= (3, 5)\n",
    "\n",
    "# Scikit-Learn ≥0.20 is required\n",
    "import sklearn\n",
    "assert sklearn.__version__ >= \"0.20\"\n",
    "\n",
    "# Common imports\n",
    "import numpy as np\n",
    "import os\n",
    "\n",
    "# to make this notebook's output stable across runs\n",
    "np.random.seed(42)\n",
    "\n",
    "# To plot pretty figures\n",
    "%matplotlib inline\n",
    "import matplotlib as mpl"
   ]
  },
  {
   "cell_type": "code",
   "execution_count": 3,
   "id": "ceramic-cycle",
   "metadata": {},
   "outputs": [],
   "source": [
    "import numpy as np\n",
    "\n",
    "X = 2 * np.random.rand(100, 1)\n",
    "y = 4 + 3 * X + np.random.randn(100, 1)"
   ]
  },
  {
   "cell_type": "code",
   "execution_count": 4,
   "id": "driving-crisis",
   "metadata": {},
   "outputs": [
    {
     "data": {
      "image/png": "[encoded data removed]",
      "text/plain": [
       "<Figure size 432x288 with 1 Axes>"
      ]
     },
     "metadata": {
      "needs_background": "light"
     },
     "output_type": "display_data"
    }
   ],
   "source": [
    "import matplotlib.pyplot as plt\n",
    "\n",
    "plt.plot(X, y, \"b.\")\n",
    "plt.xlabel(\"$x_1$\", fontsize=18)\n",
    "plt.ylabel(\"$y$\", rotation=0, fontsize=18)\n",
    "plt.axis([0, 2, 0, 15])\n",
    "# save_fig(\"generated_data_plot\")\n",
    "plt.show()"
   ]
  },
  {
   "cell_type": "markdown",
   "id": "later-miami",
   "metadata": {},
   "source": [
    "`Normal Equation`: $\\hat\\theta = (X^{T}X)^{-1} X^{T}y$ <br>\n",
    "`Python` implementation of Normal Equation\n",
    "```python\n",
    "X = 2 * np.random.rand(100, 1)\n",
    "y = 4 + 3 * X + np.random.randn(100, 1)\n",
    "X_b = np.c_[np.ones((100, 1)), X]  # add x0 = 1 to each instance\n",
    "theta_best = np.linalg.inv(X_b.T.dot(X_b)).dot(X_b.T).dot(y)\n",
    "```"
   ]
  },
  {
   "cell_type": "code",
   "execution_count": 5,
   "id": "smart-reference",
   "metadata": {},
   "outputs": [
    {
     "data": {
      "text/plain": [
       "array([[4.21509616],\n",
       "       [2.77011339]])"
      ]
     },
     "execution_count": 5,
     "metadata": {},
     "output_type": "execute_result"
    }
   ],
   "source": [
    "X_b = np.c_[np.ones((100, 1)), X]  # add x0 = 1 to each instance\n",
    "theta_best = np.linalg.inv(X_b.T.dot(X_b)).dot(X_b.T).dot(y)\n",
    "theta_best"
   ]
  },
  {
   "cell_type": "code",
   "execution_count": 6,
   "id": "incredible-charity",
   "metadata": {},
   "outputs": [
    {
     "data": {
      "text/plain": [
       "array([[4.21509616],\n",
       "       [9.75532293]])"
      ]
     },
     "execution_count": 6,
     "metadata": {},
     "output_type": "execute_result"
    }
   ],
   "source": [
    "X_new = np.array([[0], [2]])\n",
    "X_new_b = np.c_[np.ones((2, 1)), X_new]  # add x0 = 1 to each instance\n",
    "y_predict = X_new_b.dot(theta_best)\n",
    "y_predict"
   ]
  },
  {
   "cell_type": "code",
   "execution_count": 7,
   "id": "intelligent-mustang",
   "metadata": {},
   "outputs": [
    {
     "data": {
      "image/png": "[encoded data removed]",
      "text/plain": [
       "<Figure size 432x288 with 1 Axes>"
      ]
     },
     "metadata": {
      "needs_background": "light"
     },
     "output_type": "display_data"
    }
   ],
   "source": [
    "plt.plot(X_new, y_predict, \"r-\")\n",
    "plt.plot(X, y, \"b.\")\n",
    "plt.axis([0, 2, 0, 15])\n",
    "plt.show()"
   ]
  },
  {
   "cell_type": "code",
   "execution_count": 8,
   "id": "theoretical-airfare",
   "metadata": {},
   "outputs": [
    {
     "data": {
      "image/png": "[encoded data removed]",
      "text/plain": [
       "<Figure size 432x288 with 1 Axes>"
      ]
     },
     "metadata": {
      "needs_background": "light"
     },
     "output_type": "display_data"
    }
   ],
   "source": [
    "plt.plot(X_new, y_predict, \"r-\", linewidth=2, label=\"Predictions\")\n",
    "plt.plot(X, y, \"b.\")\n",
    "plt.xlabel(\"$x_1$\", fontsize=18)\n",
    "plt.ylabel(\"$y$\", rotation=0, fontsize=18)\n",
    "plt.legend(loc=\"upper left\", fontsize=14)\n",
    "plt.axis([0, 2, 0, 15])\n",
    "# save_fig(\"linear_model_predictions_plot\")\n",
    "plt.show()"
   ]
  },
  {
   "cell_type": "markdown",
   "id": "southwest-enzyme",
   "metadata": {},
   "source": [
    "## Linear Regression"
   ]
  },
  {
   "cell_type": "code",
   "execution_count": 9,
   "id": "dressed-friendship",
   "metadata": {},
   "outputs": [
    {
     "data": {
      "text/plain": [
       "(array([4.21509616]), array([[2.77011339]]))"
      ]
     },
     "execution_count": 9,
     "metadata": {},
     "output_type": "execute_result"
    }
   ],
   "source": [
    "from sklearn.linear_model import LinearRegression\n",
    "\n",
    "lin_reg = LinearRegression()\n",
    "lin_reg.fit(X, y)\n",
    "# The intercept/Bias term/ Constant, they all are one & same thing\n",
    "lin_reg.intercept_, lin_reg.coef_"
   ]
  },
  {
   "cell_type": "code",
   "execution_count": 10,
   "id": "cubic-world",
   "metadata": {},
   "outputs": [
    {
     "data": {
      "text/plain": [
       "array([[4.21509616],\n",
       "       [9.75532293]])"
      ]
     },
     "execution_count": 10,
     "metadata": {},
     "output_type": "execute_result"
    }
   ],
   "source": [
    "lin_reg.predict(X_new)"
   ]
  },
  {
   "cell_type": "markdown",
   "id": "valued-messaging",
   "metadata": {},
   "source": [
    "The `LinearRegression` class is based on the `scipy.linalg.lstsq()` function (the name stands for \"least squares\"), which computes:\n",
    "<font color=\"yellow\">$\\large \\hat{\\theta} = \\mathbf{X}^+\\mathbf{y}$</font>"
   ]
  },
  {
   "cell_type": "markdown",
   "id": "durable-application",
   "metadata": {},
   "source": [
    "Here $\\mathbf{X}^{+}$ is the <i>`pseudoinverse`</i> of $\\mathbf{X}$ (specifically the Moore-Penrose inverse). You can use `np.linalg.pinv()` to compute the pseudoinverse directly:"
   ]
  },
  {
   "cell_type": "code",
   "execution_count": 11,
   "id": "median-shakespeare",
   "metadata": {},
   "outputs": [
    {
     "data": {
      "text/plain": [
       "array([[4.21509616],\n",
       "       [2.77011339]])"
      ]
     },
     "execution_count": 11,
     "metadata": {},
     "output_type": "execute_result"
    }
   ],
   "source": [
    "np.linalg.pinv(X_b).dot(y)"
   ]
  },
  {
   "cell_type": "markdown",
   "id": "atmospheric-plane",
   "metadata": {},
   "source": [
    "The <i>`pseudoinverse`</i> is computed using a standard matrix factorization technique called `Singular Value Decomposition` <br>\n",
    "`SVD` can decompose the training dataset matrix `X` into matrix multiplication of the 3 matrices: <br>\n",
    "> <font color=\"yellow\"> $U \\sum V^T$ </font> <br>\n",
    "\n",
    "The pseudo inverse is calculated as: <font color=\"yellow\">$\\large X^+ = V\\sum^+U^T$</font>"
   ]
  },
  {
   "cell_type": "markdown",
   "id": "dynamic-rental",
   "metadata": {},
   "source": [
    "## Computational Complexity\n",
    "- Normal Equation: $\\mathcal{O}(n^{2.4})$ to $\\mathcal{O}(n^{3})$\n",
    "- SVD approach: $\\mathcal{O}(n^{2})$"
   ]
  },
  {
   "cell_type": "markdown",
   "id": "coral-interim",
   "metadata": {},
   "source": [
    "# <font color=\"red\">Linear regression using batch gradient descent</font>\n"
   ]
  },
  {
   "cell_type": "code",
   "execution_count": null,
   "id": "copyrighted-marble",
   "metadata": {},
   "outputs": [],
   "source": []
  }
 ],
 "metadata": {
  "kernelspec": {
   "display_name": "Python 3",
   "language": "python",
   "name": "python3"
  },
  "language_info": {
   "codemirror_mode": {
    "name": "ipython",
    "version": 3
   },
   "file_extension": ".py",
   "mimetype": "text/x-python",
   "name": "python",
   "nbconvert_exporter": "python",
   "pygments_lexer": "ipython3",
   "version": "3.8.5"
  }
 },
 "nbformat": 4,
 "nbformat_minor": 5
}
