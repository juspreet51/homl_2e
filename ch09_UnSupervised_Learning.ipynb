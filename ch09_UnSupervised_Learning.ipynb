{
 "cells": [
  {
   "cell_type": "markdown",
   "id": "selective-praise",
   "metadata": {},
   "source": [
    "# Un-Supervised Learning\n",
    "\n",
    "# Table of Contents\n",
    "1. [Voting Classifiers](#vote)\n",
    "    - Hard Voting [V.S.](#had_vs_soft) Soft Voting"
   ]
  },
  {
   "cell_type": "code",
   "execution_count": null,
   "id": "descending-investor",
   "metadata": {},
   "outputs": [],
   "source": []
  }
 ],
 "metadata": {
  "kernelspec": {
   "display_name": "Python 3",
   "language": "python",
   "name": "python3"
  },
  "language_info": {
   "codemirror_mode": {
    "name": "ipython",
    "version": 3
   },
   "file_extension": ".py",
   "mimetype": "text/x-python",
   "name": "python",
   "nbconvert_exporter": "python",
   "pygments_lexer": "ipython3",
   "version": "3.8.5"
  }
 },
 "nbformat": 4,
 "nbformat_minor": 5
}
