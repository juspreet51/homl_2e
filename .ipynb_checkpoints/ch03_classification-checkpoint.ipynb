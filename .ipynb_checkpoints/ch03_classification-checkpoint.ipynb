{
 "cells": [
  {
   "cell_type": "markdown",
   "id": "exceptional-saturn",
   "metadata": {},
   "source": [
    "### Classification\n",
    "- [Binary Classifier](#SGDClassifier) (*Incomplete/Error*)\n",
    "- [SVC](#svc)\n",
    "- SKlearn [Confusion Matrix](#confusion_matrix)\n",
    "- Classification [Evaluation Metrics](#eval_metrics)"
   ]
  },
  {
   "cell_type": "code",
   "execution_count": 1,
   "id": "heated-works",
   "metadata": {},
   "outputs": [],
   "source": [
    "import pandas as pd\n",
    "import numpy as np\n",
    "import matplotlib.pyplot as plt"
   ]
  },
  {
   "cell_type": "markdown",
   "id": "driving-newcastle",
   "metadata": {},
   "source": [
    "`Regression`: predicting values <br>\n",
    "`Classification`: predicting classes"
   ]
  },
  {
   "cell_type": "code",
   "execution_count": 2,
   "id": "intellectual-skating",
   "metadata": {},
   "outputs": [
    {
     "data": {
      "text/plain": [
       "dict_keys(['data', 'target', 'frame', 'categories', 'feature_names', 'target_names', 'DESCR', 'details', 'url'])"
      ]
     },
     "execution_count": 2,
     "metadata": {},
     "output_type": "execute_result"
    }
   ],
   "source": [
    "from sklearn.datasets import fetch_openml\n",
    "mnist = fetch_openml('mnist_784', version=1)\n",
    "mnist.keys()"
   ]
  },
  {
   "cell_type": "code",
   "execution_count": 3,
   "id": "trying-robertson",
   "metadata": {},
   "outputs": [
    {
     "name": "stdout",
     "output_type": "stream",
     "text": [
      "Shape of DF: (70000, 784)\n",
      "Number of Images: 70000\n",
      "Features in each image: 784\n",
      "Which means image's resolution: 28 X 28 pixels\n"
     ]
    }
   ],
   "source": [
    "X, y = mnist[\"data\"], mnist[\"target\"]\n",
    "\n",
    "print(f\"Shape of DF: {X.shape}\")\n",
    "print(f\"Number of Images: {X.shape[0]}\")\n",
    "print(f\"Features in each image: {X.shape[1]}\")\n",
    "print(f\"Which means image's resolution: {int(np.sqrt(X.shape[1]))} X {int(np.sqrt(X.shape[1]))} pixels\")"
   ]
  },
  {
   "cell_type": "markdown",
   "id": "abstract-emergency",
   "metadata": {},
   "source": [
    "### Another way of importing MNIST data\n",
    "```python\n",
    "from tensorflow.keras.datasets import mnist\n",
    "from matplotlib import pyplot\n",
    "# load dataset\n",
    "(trainX, trainy), (testX, testy) = mnist.load_data()\n",
    "```"
   ]
  },
  {
   "cell_type": "markdown",
   "id": "continued-discipline",
   "metadata": {},
   "source": [
    "<a id=\"SGDClassifier\"></a>\n",
    "## Training a binary classifier\n",
    "<font color=\"teal\"><b>Stochastic Gradient Classifier</b></font>\n",
    "```python\n",
    "from sklearn.linear_model import SGDClassifier\n",
    "```"
   ]
  },
  {
   "cell_type": "code",
   "execution_count": 4,
   "id": "practical-assurance",
   "metadata": {},
   "outputs": [],
   "source": [
    "X, y = mnist[\"data\"], mnist[\"target\"]\n",
    "y = y.astype(np.uint8) # As the numeral representation in target is in string format\n",
    "\n",
    "X_train, X_test, y_train, y_test = X[:60000], X[60000:], y[:60000], y[60000:]"
   ]
  },
  {
   "cell_type": "code",
   "execution_count": 5,
   "id": "prescription-indianapolis",
   "metadata": {},
   "outputs": [
    {
     "data": {
      "text/plain": [
       "False    54579\n",
       "True      5421\n",
       "Name: class, dtype: int64"
      ]
     },
     "execution_count": 5,
     "metadata": {},
     "output_type": "execute_result"
    }
   ],
   "source": [
    "y_train_5 = (y_train == 5)\n",
    "y_test_5 = (y_test == 5)\n",
    "\n",
    "y_train_5.value_counts()"
   ]
  },
  {
   "cell_type": "code",
   "execution_count": 6,
   "id": "scheduled-darkness",
   "metadata": {},
   "outputs": [
    {
     "name": "stdout",
     "output_type": "stream",
     "text": [
      "(60000, 784)\n",
      "(60000,)\n"
     ]
    }
   ],
   "source": [
    "print(X_train.shape)\n",
    "print(y_train_5.shape)"
   ]
  },
  {
   "cell_type": "code",
   "execution_count": 8,
   "id": "vulnerable-celebrity",
   "metadata": {},
   "outputs": [
    {
     "data": {
      "text/plain": [
       "SGDClassifier(random_state=42)"
      ]
     },
     "execution_count": 8,
     "metadata": {},
     "output_type": "execute_result"
    }
   ],
   "source": [
    "from sklearn.linear_model import SGDClassifier\n",
    "\n",
    "sgd_clf = SGDClassifier(max_iter=1000, tol=1e-3, random_state=42)\n",
    "sgd_clf.fit(X_train, y_train_5)"
   ]
  },
  {
   "cell_type": "markdown",
   "id": "liable-hazard",
   "metadata": {},
   "source": [
    "```python\n",
    "sgd_clf.predict([X_train[0]])\n",
    "```"
   ]
  },
  {
   "cell_type": "markdown",
   "id": "individual-extension",
   "metadata": {},
   "source": [
    "### Another way of importing MNIST data\n",
    "```python\n",
    "from sklearn import datasets\n",
    "# load dataset\n",
    "digits = datasets.load_digits()\n",
    "\n",
    "# flatten the images\n",
    "n_samples = len(digits.images)\n",
    "data = digits.images.reshape((n_samples, -1))\n",
    "\n",
    "X_train, X_test, y_train, y_test = train_test_split(data, digits.target, test_size=0.2, shuffle=False)\n",
    "```"
   ]
  },
  {
   "cell_type": "code",
   "execution_count": 9,
   "id": "horizontal-samba",
   "metadata": {},
   "outputs": [],
   "source": [
    "# Standard scientific Python imports\n",
    "import matplotlib.pyplot as plt\n",
    "\n",
    "# Import datasets, classifiers and performance metrics\n",
    "from sklearn import datasets, svm, metrics\n",
    "from sklearn.model_selection import train_test_split\n",
    "digits = datasets.load_digits()"
   ]
  },
  {
   "cell_type": "code",
   "execution_count": 10,
   "id": "requested-physiology",
   "metadata": {},
   "outputs": [
    {
     "data": {
      "image/png": "[encoded data removed]",
      "text/plain": [
       "<Figure size 720x216 with 4 Axes>"
      ]
     },
     "metadata": {
      "needs_background": "light"
     },
     "output_type": "display_data"
    }
   ],
   "source": [
    "# Plotting some digits on screen\n",
    "\n",
    "_, axes = plt.subplots(nrows=1, ncols=4, figsize=(10, 3))\n",
    "for ax, image, label in zip(axes, digits.images, digits.target):\n",
    "    ax.set_axis_off()\n",
    "    ax.imshow(image, cmap=plt.cm.gray_r, interpolation='nearest')\n",
    "    ax.set_title(f'Training: {label}')\n",
    "    \n",
    "# flatten the images\n",
    "n_samples = len(digits.images)\n",
    "data = digits.images.reshape((n_samples, -1))"
   ]
  },
  {
   "cell_type": "markdown",
   "id": "arranged-handbook",
   "metadata": {},
   "source": [
    "<a id=\"svc\"></a>\n",
    "## Support Vector Classifier\n",
    "\n",
    "<font color=\"teal\"><b>Support Vector Classifier</b></font>\n",
    "```python\n",
    "from sklearn import svm\n",
    "```"
   ]
  },
  {
   "cell_type": "code",
   "execution_count": 11,
   "id": "original-james",
   "metadata": {},
   "outputs": [
    {
     "name": "stdout",
     "output_type": "stream",
     "text": [
      "(1437,)\n",
      "(1437,)\n"
     ]
    }
   ],
   "source": [
    "# Create a classifier: a Support Vector Classifier\n",
    "clf = svm.SVC(gamma=0.001)\n",
    "\n",
    "# Split data into 50% train and 50% test subsets\n",
    "X_train, X_test, y_train, y_test = train_test_split(data, digits.target, test_size=0.2, shuffle=False)\n",
    "\n",
    "y_train_5 = (y_train==5); y_test_5 = (y_test==5)\n",
    "\n",
    "print(y_train.shape); print(y_train_5.shape)"
   ]
  },
  {
   "cell_type": "code",
   "execution_count": 12,
   "id": "religious-alpha",
   "metadata": {},
   "outputs": [],
   "source": [
    "# Learn the digits on the train subset\n",
    "clf.fit(X_train, y_train_5)\n",
    "\n",
    "# Predict the value of the digit on the test subset\n",
    "predicted = clf.predict(X_test)"
   ]
  },
  {
   "cell_type": "code",
   "execution_count": 14,
   "id": "improved-invitation",
   "metadata": {},
   "outputs": [
    {
     "data": {
      "image/png": "[encoded data removed]",
      "text/plain": [
       "<Figure size 720x216 with 4 Axes>"
      ]
     },
     "metadata": {
      "needs_background": "light"
     },
     "output_type": "display_data"
    }
   ],
   "source": [
    "# Plotting predictions\n",
    "_, axes = plt.subplots(nrows=1, ncols=4, figsize=(10, 3))\n",
    "for ax, image, prediction in zip(axes, X_test, predicted):\n",
    "    ax.set_axis_off()\n",
    "    image = image.reshape(8, 8)\n",
    "    ax.imshow(image, cmap=plt.cm.gray_r, interpolation='nearest')\n",
    "    ax.set_title(f'Prediction: {prediction}')"
   ]
  },
  {
   "cell_type": "markdown",
   "id": "geographic-memory",
   "metadata": {},
   "source": [
    "[classification_report](https://scikit-learn.org/stable/modules/generated/sklearn.metrics.classification_report.html#sklearn.metrics.classification_report) builds a text report showing the main classification metrics"
   ]
  },
  {
   "cell_type": "code",
   "execution_count": 15,
   "id": "coordinate-integrity",
   "metadata": {},
   "outputs": [
    {
     "name": "stdout",
     "output_type": "stream",
     "text": [
      "Classification report for classifier: SVC(gamma=0.001):\n",
      "\n",
      "              precision    recall  f1-score   support\n",
      "\n",
      "       False       1.00      0.99      1.00       323\n",
      "        True       0.95      1.00      0.97        37\n",
      "\n",
      "    accuracy                           0.99       360\n",
      "   macro avg       0.97      1.00      0.99       360\n",
      "weighted avg       0.99      0.99      0.99       360\n",
      "\n",
      "\n"
     ]
    }
   ],
   "source": [
    "print(f\"Classification report for classifier: {clf}:\\n\\n\"\n",
    "      f\"{metrics.classification_report(y_test_5, predicted)}\\n\")"
   ]
  },
  {
   "cell_type": "markdown",
   "id": "arbitrary-florida",
   "metadata": {},
   "source": [
    "<a id=\"confusion_matrix\"></a>\n",
    "### Sklearn Confusion Matrix"
   ]
  },
  {
   "cell_type": "code",
   "execution_count": 20,
   "id": "looking-windows",
   "metadata": {},
   "outputs": [
    {
     "name": "stdout",
     "output_type": "stream",
     "text": [
      "[[321   2]\n",
      " [  0  37]]\n"
     ]
    },
    {
     "data": {
      "image/png": "[encoded data removed]",
      "text/plain": [
       "<Figure size 432x288 with 2 Axes>"
      ]
     },
     "metadata": {
      "needs_background": "light"
     },
     "output_type": "display_data"
    }
   ],
   "source": [
    "from sklearn.metrics import confusion_matrix, plot_confusion_matrix\n",
    "print(confusion_matrix(y_test_5, predicted))\n",
    "\n",
    "plot_confusion_matrix(clf, X_test, y_test_5)  \n",
    "plt.show()"
   ]
  },
  {
   "cell_type": "markdown",
   "id": "consecutive-stage",
   "metadata": {},
   "source": [
    "<a id=\"eval_metrics\"></a>\n",
    "# Classification Evaluation Metrics"
   ]
  },
  {
   "cell_type": "code",
   "execution_count": 23,
   "id": "persistent-civilization",
   "metadata": {},
   "outputs": [
    {
     "name": "stdout",
     "output_type": "stream",
     "text": [
      "Accuracy: 0.994444\n",
      "Precision: 0.948718\n",
      "Recall: 1.000000\n",
      "F1 score: 0.973684\n",
      "Cohens kappa: 0.970581\n",
      "ROC AUC: 0.996904\n",
      "[[321   2]\n",
      " [  0  37]]\n"
     ]
    }
   ],
   "source": [
    "from sklearn.metrics import accuracy_score, precision_score, recall_score, f1_score, cohen_kappa_score, roc_auc_score, confusion_matrix\n",
    "\n",
    "# accuracy: (tp + tn) / (p + n)\n",
    "accuracy = accuracy_score(y_test_5, predicted)\n",
    "print('Accuracy: %f' % accuracy)\n",
    "# precision tp / (tp + fp)\n",
    "precision = precision_score(y_test_5, predicted)\n",
    "print('Precision: %f' % precision)\n",
    "# recall: tp / (tp + fn)\n",
    "recall = recall_score(y_test_5, predicted)\n",
    "print('Recall: %f' % recall)\n",
    "# f1: 2 tp / (2 tp + fp + fn)\n",
    "f1 = f1_score(y_test_5, predicted)\n",
    "print('F1 score: %f' % f1)\n",
    " \n",
    "# kappa\n",
    "kappa = cohen_kappa_score(y_test_5, predicted)\n",
    "print('Cohens kappa: %f' % kappa)\n",
    "# ROC AUC\n",
    "auc = roc_auc_score(y_test_5, predicted)\n",
    "print('ROC AUC: %f' % auc)\n",
    "# confusion matrix\n",
    "matrix = confusion_matrix(y_test_5, predicted)\n",
    "print(matrix)"
   ]
  }
 ],
 "metadata": {
  "kernelspec": {
   "display_name": "Python 3",
   "language": "python",
   "name": "python3"
  },
  "language_info": {
   "codemirror_mode": {
    "name": "ipython",
    "version": 3
   },
   "file_extension": ".py",
   "mimetype": "text/x-python",
   "name": "python",
   "nbconvert_exporter": "python",
   "pygments_lexer": "ipython3",
   "version": "3.8.5"
  }
 },
 "nbformat": 4,
 "nbformat_minor": 5
}
